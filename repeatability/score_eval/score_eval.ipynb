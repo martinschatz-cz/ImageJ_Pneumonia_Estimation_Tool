{
 "cells": [
  {
   "cell_type": "code",
   "execution_count": 1,
   "id": "b9d1e0f7-6318-4c53-8979-06e897e6e65a",
   "metadata": {},
   "outputs": [],
   "source": [
    "import pandas as pd"
   ]
  },
  {
   "cell_type": "code",
   "execution_count": 2,
   "id": "132aa829-0897-4030-b562-1ea917f2c5df",
   "metadata": {},
   "outputs": [
    {
     "data": {
      "text/html": [
       "<div>\n",
       "<style scoped>\n",
       "    .dataframe tbody tr th:only-of-type {\n",
       "        vertical-align: middle;\n",
       "    }\n",
       "\n",
       "    .dataframe tbody tr th {\n",
       "        vertical-align: top;\n",
       "    }\n",
       "\n",
       "    .dataframe thead th {\n",
       "        text-align: right;\n",
       "    }\n",
       "</style>\n",
       "<table border=\"1\" class=\"dataframe\">\n",
       "  <thead>\n",
       "    <tr style=\"text-align: right;\">\n",
       "      <th></th>\n",
       "      <th>Times</th>\n",
       "      <th>Score</th>\n",
       "      <th>Percentage</th>\n",
       "    </tr>\n",
       "  </thead>\n",
       "  <tbody>\n",
       "    <tr>\n",
       "      <th>0</th>\n",
       "      <td>46.313</td>\n",
       "      <td>2</td>\n",
       "      <td>9.5706</td>\n",
       "    </tr>\n",
       "    <tr>\n",
       "      <th>1</th>\n",
       "      <td>48.136</td>\n",
       "      <td>2</td>\n",
       "      <td>9.5706</td>\n",
       "    </tr>\n",
       "    <tr>\n",
       "      <th>2</th>\n",
       "      <td>47.758</td>\n",
       "      <td>2</td>\n",
       "      <td>9.5706</td>\n",
       "    </tr>\n",
       "    <tr>\n",
       "      <th>3</th>\n",
       "      <td>47.097</td>\n",
       "      <td>2</td>\n",
       "      <td>9.5706</td>\n",
       "    </tr>\n",
       "    <tr>\n",
       "      <th>4</th>\n",
       "      <td>47.088</td>\n",
       "      <td>2</td>\n",
       "      <td>9.5706</td>\n",
       "    </tr>\n",
       "    <tr>\n",
       "      <th>5</th>\n",
       "      <td>47.054</td>\n",
       "      <td>2</td>\n",
       "      <td>9.5706</td>\n",
       "    </tr>\n",
       "    <tr>\n",
       "      <th>6</th>\n",
       "      <td>50.637</td>\n",
       "      <td>2</td>\n",
       "      <td>9.5706</td>\n",
       "    </tr>\n",
       "    <tr>\n",
       "      <th>7</th>\n",
       "      <td>47.483</td>\n",
       "      <td>2</td>\n",
       "      <td>9.5706</td>\n",
       "    </tr>\n",
       "    <tr>\n",
       "      <th>8</th>\n",
       "      <td>48.094</td>\n",
       "      <td>2</td>\n",
       "      <td>9.5706</td>\n",
       "    </tr>\n",
       "    <tr>\n",
       "      <th>9</th>\n",
       "      <td>48.077</td>\n",
       "      <td>2</td>\n",
       "      <td>9.5706</td>\n",
       "    </tr>\n",
       "    <tr>\n",
       "      <th>10</th>\n",
       "      <td>46.377</td>\n",
       "      <td>2</td>\n",
       "      <td>9.5706</td>\n",
       "    </tr>\n",
       "    <tr>\n",
       "      <th>11</th>\n",
       "      <td>48.024</td>\n",
       "      <td>2</td>\n",
       "      <td>9.5706</td>\n",
       "    </tr>\n",
       "    <tr>\n",
       "      <th>12</th>\n",
       "      <td>48.716</td>\n",
       "      <td>2</td>\n",
       "      <td>9.5706</td>\n",
       "    </tr>\n",
       "    <tr>\n",
       "      <th>13</th>\n",
       "      <td>50.233</td>\n",
       "      <td>2</td>\n",
       "      <td>9.5706</td>\n",
       "    </tr>\n",
       "    <tr>\n",
       "      <th>14</th>\n",
       "      <td>46.747</td>\n",
       "      <td>2</td>\n",
       "      <td>9.5706</td>\n",
       "    </tr>\n",
       "    <tr>\n",
       "      <th>15</th>\n",
       "      <td>48.328</td>\n",
       "      <td>2</td>\n",
       "      <td>9.5706</td>\n",
       "    </tr>\n",
       "    <tr>\n",
       "      <th>16</th>\n",
       "      <td>46.594</td>\n",
       "      <td>2</td>\n",
       "      <td>9.5706</td>\n",
       "    </tr>\n",
       "    <tr>\n",
       "      <th>17</th>\n",
       "      <td>45.953</td>\n",
       "      <td>2</td>\n",
       "      <td>9.5706</td>\n",
       "    </tr>\n",
       "    <tr>\n",
       "      <th>18</th>\n",
       "      <td>48.050</td>\n",
       "      <td>2</td>\n",
       "      <td>9.5706</td>\n",
       "    </tr>\n",
       "    <tr>\n",
       "      <th>19</th>\n",
       "      <td>47.558</td>\n",
       "      <td>2</td>\n",
       "      <td>9.5706</td>\n",
       "    </tr>\n",
       "  </tbody>\n",
       "</table>\n",
       "</div>"
      ],
      "text/plain": [
       "     Times  Score  Percentage\n",
       "0   46.313      2      9.5706\n",
       "1   48.136      2      9.5706\n",
       "2   47.758      2      9.5706\n",
       "3   47.097      2      9.5706\n",
       "4   47.088      2      9.5706\n",
       "5   47.054      2      9.5706\n",
       "6   50.637      2      9.5706\n",
       "7   47.483      2      9.5706\n",
       "8   48.094      2      9.5706\n",
       "9   48.077      2      9.5706\n",
       "10  46.377      2      9.5706\n",
       "11  48.024      2      9.5706\n",
       "12  48.716      2      9.5706\n",
       "13  50.233      2      9.5706\n",
       "14  46.747      2      9.5706\n",
       "15  48.328      2      9.5706\n",
       "16  46.594      2      9.5706\n",
       "17  45.953      2      9.5706\n",
       "18  48.050      2      9.5706\n",
       "19  47.558      2      9.5706"
      ]
     },
     "execution_count": 2,
     "metadata": {},
     "output_type": "execute_result"
    }
   ],
   "source": [
    "df = pd.read_csv(\"./CT2_res.csv\",sep=\";\")\n",
    "df"
   ]
  },
  {
   "cell_type": "code",
   "execution_count": 3,
   "id": "127e6aac-9227-4838-ac89-5ce9ea7705dc",
   "metadata": {},
   "outputs": [],
   "source": [
    "import seaborn as sns\n",
    "sns.set_theme(style=\"whitegrid\")"
   ]
  },
  {
   "cell_type": "code",
   "execution_count": 4,
   "id": "232dad14-ba3f-4758-8c47-f19f6b0a80f0",
   "metadata": {},
   "outputs": [
    {
     "data": {
      "text/plain": [
       "Times         47.71585\n",
       "Score          2.00000\n",
       "Percentage     9.57060\n",
       "dtype: float64"
      ]
     },
     "execution_count": 4,
     "metadata": {},
     "output_type": "execute_result"
    }
   ],
   "source": [
    "df.mean()"
   ]
  },
  {
   "cell_type": "code",
   "execution_count": 7,
   "id": "bccc0e26-e134-4bda-b0e2-a43de5f952a0",
   "metadata": {},
   "outputs": [
    {
     "data": {
      "image/png": "[encoded data removed]",
      "text/plain": [
       "<Figure size 640x480 with 1 Axes>"
      ]
     },
     "metadata": {},
     "output_type": "display_data"
    }
   ],
   "source": [
    "# Draw a nested violinplot and split the violins for easier comparison\n",
    "ax = sns.violinplot(data=df[\"Score\"], linewidth=1, cut=1, inner='box')\n",
    "ax.set(\n",
    "    xlabel=\"{} repetitions\".format(df[\"Score\"].count()),\n",
    "    ylabel=\"Score\",\n",
    "    title=\"Score distribution, mean: {}\".format(df[\"Score\"].mean())\n",
    ")\n",
    "sns.despine(left=True)"
   ]
  },
  {
   "cell_type": "code",
   "execution_count": 8,
   "id": "7db17957-2304-4d83-90cd-da928174bc23",
   "metadata": {},
   "outputs": [],
   "source": [
    "ax.figure.savefig(\"score_dist_CT2.png\")"
   ]
  },
  {
   "cell_type": "code",
   "execution_count": 10,
   "id": "8148bf02-c5f5-4b11-a136-7247af23aaef",
   "metadata": {},
   "outputs": [
    {
     "data": {
      "image/png": "[encoded data removed]",
      "text/plain": [
       "<Figure size 640x480 with 1 Axes>"
      ]
     },
     "metadata": {},
     "output_type": "display_data"
    }
   ],
   "source": [
    "# Draw a nested violinplot and split the violins for easier comparison\n",
    "ax = sns.violinplot(data=df[\"Percentage\"], linewidth=1, cut=1, inner='box')\n",
    "ax.set(\n",
    "    xlabel=\"{:.2f} repetitions\".format(df[\"Score\"].count()),\n",
    "    ylabel=\"Percentage\",\n",
    "    title=\"Percentage distribution, mean: {}\".format(df[\"Percentage\"].mean())\n",
    ")\n",
    "sns.despine(left=True)"
   ]
  },
  {
   "cell_type": "code",
   "execution_count": 11,
   "id": "972c45be-a5df-4196-9e14-75877094c81e",
   "metadata": {},
   "outputs": [],
   "source": [
    "ax.figure.savefig(\"perc_dist_CT2.png\")"
   ]
  },
  {
   "cell_type": "code",
   "execution_count": null,
   "id": "66aa7c60-3cdb-4256-b48a-bc3c69f1739e",
   "metadata": {},
   "outputs": [],
   "source": []
  }
 ],
 "metadata": {
  "kernelspec": {
   "display_name": "Python 3 (ipykernel)",
   "language": "python",
   "name": "python3"
  },
  "language_info": {
   "codemirror_mode": {
    "name": "ipython",
    "version": 3
   },
   "file_extension": ".py",
   "mimetype": "text/x-python",
   "name": "python",
   "nbconvert_exporter": "python",
   "pygments_lexer": "ipython3",
   "version": "3.9.13"
  }
 },
 "nbformat": 4,
 "nbformat_minor": 5
}
